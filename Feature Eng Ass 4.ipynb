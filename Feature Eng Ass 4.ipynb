{
 "cells": [
  {
   "cell_type": "code",
   "execution_count": 1,
   "id": "a3b53f0c-9bf7-478e-abfc-d20209a09f83",
   "metadata": {},
   "outputs": [],
   "source": [
    "# Q1. What is data encoding? How is it useful in data science?"
   ]
  },
  {
   "cell_type": "code",
   "execution_count": 2,
   "id": "a93112a1-2b8f-4319-9f6d-5eaaab7385f6",
   "metadata": {},
   "outputs": [],
   "source": [
    "# Data encoding is the process of converting data from one form to another, usually for the purpose of transmission, storage, or analysis. \n",
    "# It is useful in data science because it allows us to represent categorical data in a way that machine learning algorithms can understand"
   ]
  },
  {
   "cell_type": "code",
   "execution_count": 3,
   "id": "c2be31d0-8961-416b-b749-9e62392709f4",
   "metadata": {},
   "outputs": [],
   "source": [
    "#Q2. What is nominal encoding? Provide an example of how you would use it in a real-world scenario"
   ]
  },
  {
   "cell_type": "code",
   "execution_count": 4,
   "id": "c5588417-4f69-458a-897e-8b82cc439f95",
   "metadata": {},
   "outputs": [],
   "source": [
    "#Nominal encoding is a type of data encoding that is used for categorical data with no inherent order.\n",
    "# For example, the city of residence of a person is a nominal variable, as there is no inherent order to the different cities."
   ]
  },
  {
   "cell_type": "code",
   "execution_count": 5,
   "id": "17a877c8-a2d8-4a5a-85ca-1c5311d62c08",
   "metadata": {},
   "outputs": [],
   "source": [
    "#Here is an example of how we can use nominal encoding in a real-world scenario:\n",
    "\n",
    "#We  have a dataset of customer purchases.\n",
    "#We want to use the customer's city of residence to make predictions about their future purchases.\n",
    "#We use nominal encoding to represent the city of residence as a categorical variable.\n",
    "#This allows the machine learning algorithm to understand that the city of residence is a categorical variable, and it can use that information to make predictions."
   ]
  },
  {
   "cell_type": "code",
   "execution_count": 6,
   "id": "cdf84309-37c3-482b-a823-33dac16978fc",
   "metadata": {},
   "outputs": [],
   "source": [
    "# Q3. In what situations is nominal encoding preferred over one-hot encoding? Provide a practical example."
   ]
  },
  {
   "cell_type": "code",
   "execution_count": 7,
   "id": "c1083bac-8f27-49b4-aad3-7b44cd2654f3",
   "metadata": {},
   "outputs": [],
   "source": [
    "#Nominal encoding is preferred over one-hot encoding when the categorical data does not have an inherent order.\n",
    "\n",
    "# For example, the color of a car is a nominal variable, as there is no inherent order to the different colors. \n",
    "# In this case, nominal encoding is sufficient to represent the data."
   ]
  },
  {
   "cell_type": "code",
   "execution_count": 8,
   "id": "44cdffe3-6312-4b3a-a177-9c4bbcc9ea4e",
   "metadata": {},
   "outputs": [],
   "source": [
    "#Q4. Suppose you have a dataset containing categorical data with 5 unique values. Which encoding\n",
    "#technique would you use to transform this data into a format suitable for machine learning algorithms?\n",
    "#Explain why you made this choice."
   ]
  },
  {
   "cell_type": "code",
   "execution_count": 9,
   "id": "968af4a0-fc00-4cc0-965f-1afe2210dff1",
   "metadata": {},
   "outputs": [],
   "source": [
    "#If I have a dataset containing categorical data with 5 unique values, I would use label encoding to transform this data into a format suitable for machine learning algorithms.\n",
    "#Label encoding is a simple and effective way to encode categorical data. It works by assigning a unique integer value to each category.\n",
    "\n",
    "#For example, if the categorical data is the color of a car, we could use the following labels:\n",
    "\n",
    "#0: Red\n",
    "#1: Blue\n",
    "#2: Green\n",
    "#3: Black\n",
    "#4: White\n",
    "\n",
    "#Label encoding is a good choice for categorical data with a small number of unique values. It is simple to implement and it does not add any additional complexity to the model.\n",
    "#Additionally, label encoding does not assume any order between the categories, which is important for categorical data that does not have an inherent order."
   ]
  },
  {
   "cell_type": "code",
   "execution_count": 10,
   "id": "c95cc550-4d5f-4879-9dc4-93cabd5c14ae",
   "metadata": {},
   "outputs": [],
   "source": [
    "#Q5. In a machine learning project, you have a dataset with 1000 rows and 5 columns. Two of the columns\n",
    "#are categorical, and the remaining three columns are numerical. If you were to use nominal encoding to\n",
    "#transform the categorical data, how many new columns would be created? Show your calculations."
   ]
  },
  {
   "cell_type": "code",
   "execution_count": 11,
   "id": "c4d098a5-7dcb-476f-aa93-6675e2302947",
   "metadata": {},
   "outputs": [],
   "source": [
    "#If we are using  nominal encoding to transform the categorical data in a dataset with 1000 rows and 5 columns, 2 of which are categorical, then 2 new columns would be created.\n",
    "\n",
    "#This is because nominal encoding simply assigns a unique integer value to each category in a categorical variable. \n",
    "#So, if there are 2 categorical variables with 5 unique values each, then 2 * 5 = 10 new columns would be created."
   ]
  },
  {
   "cell_type": "code",
   "execution_count": 12,
   "id": "4d6280b0-ef56-4571-96f4-495015903b5b",
   "metadata": {},
   "outputs": [
    {
     "name": "stdout",
     "output_type": "stream",
     "text": [
      "The number of new columns created is: 10\n"
     ]
    }
   ],
   "source": [
    "import numpy as np\n",
    "\n",
    "def nominal_encoding_calculation(num_categorical_variables, num_unique_values_per_variable):\n",
    "  \"\"\"Calculates the number of new columns created by nominal encoding.\n",
    "\n",
    "  Args:\n",
    "    num_categorical_variables: The number of categorical variables.\n",
    "    num_unique_values_per_variable: The number of unique values per categorical variable.\n",
    "\n",
    "  Returns:\n",
    "    The number of new columns created.\n",
    "  \"\"\"\n",
    "\n",
    "  return num_categorical_variables * num_unique_values_per_variable\n",
    "\n",
    "\n",
    "if __name__ == \"__main__\":\n",
    "  # Number of categorical variables\n",
    "  num_categorical_variables = 2\n",
    "\n",
    "  # Number of unique values per categorical variable\n",
    "  num_unique_values_per_variable = 5\n",
    "\n",
    "  # Calculate the number of new columns created\n",
    "  num_new_columns = nominal_encoding_calculation(num_categorical_variables, num_unique_values_per_variable)\n",
    "\n",
    "  print(\"The number of new columns created is:\", num_new_columns)\n"
   ]
  },
  {
   "cell_type": "code",
   "execution_count": 18,
   "id": "d59a1c0f-67c9-4460-bee6-023764315aa1",
   "metadata": {},
   "outputs": [
    {
     "name": "stdout",
     "output_type": "stream",
     "text": [
      "The number of new columns created is: 35\n"
     ]
    }
   ],
   "source": [
    "import numpy as np\n",
    "\n",
    "def nominal_encoding_calculation(num_categorical_variables, num_unique_values_per_variable):\n",
    "  \"\"\"Calculates the number of new columns created by nominal encoding.\n",
    "\n",
    "  Args:\n",
    "    num_categorical_variables: The number of categorical variables.\n",
    "    num_unique_values_per_variable: The number of unique values per categorical variable.\n",
    "\n",
    "  Returns:\n",
    "    The number of new columns created.\n",
    "  \"\"\"\n",
    "\n",
    "  return num_categorical_variables * num_unique_values_per_variable\n",
    "\n",
    "\n",
    "if __name__ == \"__main__\":\n",
    "  # Number of categorical variables\n",
    "  num_categorical_variables = 5\n",
    "\n",
    "  # Number of unique values per categorical variable\n",
    "  num_unique_values_per_variable = 7\n",
    "\n",
    "  # Calculate the number of new columns created\n",
    "  num_new_columns = nominal_encoding_calculation(num_categorical_variables, num_unique_values_per_variable)\n",
    "\n",
    "  print(\"The number of new columns created is:\", num_new_columns)"
   ]
  },
  {
   "cell_type": "code",
   "execution_count": 19,
   "id": "9ed6abab-4b21-43d2-86c1-98fa5a1912f7",
   "metadata": {},
   "outputs": [],
   "source": [
    "#Q6. You are working with a dataset containing information about different types of animals, including their\n",
    "#species, habitat, and diet. Which encoding technique would you use to transform the categorical data into\n",
    "#a format suitable for machine learning algorithms? Justify your answer."
   ]
  },
  {
   "cell_type": "code",
   "execution_count": 20,
   "id": "c9dc5f17-254c-43aa-b7c0-664f8d5ae164",
   "metadata": {},
   "outputs": [],
   "source": [
    "#If I am working with a dataset containing information about different types of animals, including their species, habitat, and diet,\n",
    "#I would use label encoding to transform the categorical data into a format suitable for machine learning algorithms.\n",
    "\n",
    "#Label encoding is a simple and effective way to encode categorical data. It works by assigning a unique integer value to each category.\n",
    "#In the case of the dataset containing information about different types of animals, the species, habitat, and diet are all categorical variables with a small number of unique values. \n",
    "#Therefore, label encoding is a good choice for encoding this data."
   ]
  },
  {
   "cell_type": "code",
   "execution_count": 22,
   "id": "2c62c4f7-0c20-4b17-8ab6-52a7bf506235",
   "metadata": {},
   "outputs": [],
   "source": [
    "#Q7.You are working on a project that involves predicting customer churn for a telecommunications\n",
    "#company. You have a dataset with 5 features, including the customer's gender, age, contract type,\n",
    "#monthly charges, and tenure. Which encoding technique(s) would you use to transform the categorical\n",
    "#data into numerical data? Provide a step-by-step explanation of how you would implement the encoding."
   ]
  },
  {
   "cell_type": "code",
   "execution_count": 23,
   "id": "89ad1f45-695e-4fc9-8ade-eb3dec7a431c",
   "metadata": {},
   "outputs": [],
   "source": [
    "#Here are the encoding techniques I would use to transform the categorical data into numerical data for the customer churn prediction project:\n",
    "\n",
    "#Label encoding: For the gender and contract type features, I would use label encoding. This would involve assigning a unique integer value to each category.\n",
    "#For example, I could use 0 to represent male, 1 to represent female, and 2 to represent month-to-month contract.\n",
    "\n",
    "#Ordinal encoding: For the tenure feature, I would use ordinal encoding. This would involve assigning a unique integer value to each category, but the order\n",
    "#of the values would be meaningful. For example, I could use 1 to represent 0-12 months of tenure, 2 to represent 13-24 months of tenure, and so on.\n",
    "\n",
    "#One-hot encoding: For the monthly charges feature, I would use one-hot encoding. This would involve creating a new binary column for each unique category in the feature.\n",
    "\n",
    "#For example, if the monthly charges feature has the categories 100, 150, and 200, then one-hot encoding would create three new columns: monthly_charges_100, monthly_charges_150,\n",
    "#and monthly_charges_200. #Each column would contain a 1 if the customer's monthly charges were in that category and a 0 if they were not."
   ]
  },
  {
   "cell_type": "code",
   "execution_count": 27,
   "id": "fe196acd-bf41-4707-8363-0b9e1aba78cf",
   "metadata": {},
   "outputs": [
    {
     "name": "stdout",
     "output_type": "stream",
     "text": [
      "Original DataFrame:\n",
      "   gender  age contract_type  monthly_charges  tenure\n",
      "0    Male   25       Monthly             50.0      12\n",
      "1  Female   30        Yearly             65.0      24\n",
      "2    Male   22       Monthly             40.0       6\n",
      "3  Female   35       Monthly             75.0      18\n",
      "4    Male   28        Yearly             60.0      36\n",
      "\n",
      "DataFrame after Label Encoding:\n",
      "   gender  age contract_type  monthly_charges  tenure  gender_encoded  \\\n",
      "0    Male   25       Monthly             50.0      12               1   \n",
      "1  Female   30        Yearly             65.0      24               0   \n",
      "2    Male   22       Monthly             40.0       6               1   \n",
      "3  Female   35       Monthly             75.0      18               0   \n",
      "4    Male   28        Yearly             60.0      36               1   \n",
      "\n",
      "   contract_type_encoded  \n",
      "0                      0  \n",
      "1                      1  \n",
      "2                      0  \n",
      "3                      0  \n",
      "4                      1  \n",
      "\n",
      "DataFrame after One-Hot Encoding:\n",
      "   age  monthly_charges  tenure  gender_encoded  contract_type_encoded  \\\n",
      "0   25             50.0      12               1                      0   \n",
      "1   30             65.0      24               0                      1   \n",
      "2   22             40.0       6               1                      0   \n",
      "3   35             75.0      18               0                      0   \n",
      "4   28             60.0      36               1                      1   \n",
      "\n",
      "   gender_Female  gender_Male  contract_type_Monthly  contract_type_Yearly  \n",
      "0              0            1                      1                     0  \n",
      "1              1            0                      0                     1  \n",
      "2              0            1                      1                     0  \n",
      "3              1            0                      1                     0  \n",
      "4              0            1                      0                     1  \n"
     ]
    }
   ],
   "source": [
    "import pandas as pd\n",
    "\n",
    "# Sample data\n",
    "data = {\n",
    "    'gender': ['Male', 'Female', 'Male', 'Female', 'Male'],\n",
    "    'age': [25, 30, 22, 35, 28],\n",
    "    'contract_type': ['Monthly', 'Yearly', 'Monthly', 'Monthly', 'Yearly'],\n",
    "    'monthly_charges': [50.0, 65.0, 40.0, 75.0, 60.0],\n",
    "    'tenure': [12, 24, 6, 18, 36]\n",
    "}\n",
    "\n",
    "df = pd.DataFrame(data)\n",
    "print(\"Original DataFrame:\")\n",
    "print(df)\n",
    "\n",
    "# Label Encoding for 'gender' and 'contract_type'\n",
    "from sklearn.preprocessing import LabelEncoder\n",
    "\n",
    "label_encoder = LabelEncoder()\n",
    "df['gender_encoded'] = label_encoder.fit_transform(df['gender'])\n",
    "df['contract_type_encoded'] = label_encoder.fit_transform(df['contract_type'])\n",
    "\n",
    "print(\"\\nDataFrame after Label Encoding:\")\n",
    "print(df)\n",
    "\n",
    "# One-Hot Encoding for 'gender' and 'contract_type'\n",
    "one_hot_encoded = pd.get_dummies(df, columns=['gender', 'contract_type'], prefix=['gender', 'contract_type'])\n",
    "\n",
    "print(\"\\nDataFrame after One-Hot Encoding:\")\n",
    "print(one_hot_encoded)\n"
   ]
  },
  {
   "cell_type": "code",
   "execution_count": null,
   "id": "82fbc930-0c65-4613-8938-08f63cc55497",
   "metadata": {},
   "outputs": [],
   "source": []
  }
 ],
 "metadata": {
  "kernelspec": {
   "display_name": "Python 3 (ipykernel)",
   "language": "python",
   "name": "python3"
  },
  "language_info": {
   "codemirror_mode": {
    "name": "ipython",
    "version": 3
   },
   "file_extension": ".py",
   "mimetype": "text/x-python",
   "name": "python",
   "nbconvert_exporter": "python",
   "pygments_lexer": "ipython3",
   "version": "3.10.8"
  }
 },
 "nbformat": 4,
 "nbformat_minor": 5
}
